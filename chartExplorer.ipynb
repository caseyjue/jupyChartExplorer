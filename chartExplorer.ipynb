{
 "cells": [
  {
   "cell_type": "code",
   "execution_count": 92,
   "metadata": {
    "collapsed": true
   },
   "outputs": [],
   "source": [
    "import pandas as pd\n",
    "\n",
    "df = pd.read_csv('~/Dropbox/data_science/dataset/Kaggle/titanic/train.csv')\n",
    "df = df.drop('Cabin', axis=1)\n",
    "df = df.dropna()"
   ]
  },
  {
   "cell_type": "code",
   "execution_count": 153,
   "metadata": {
    "collapsed": true
   },
   "outputs": [],
   "source": [
    "import matplotlib.pyplot as plt\n",
    "import seaborn as sns\n",
    "import pandas as pd\n",
    "import numpy as np\n",
    "from ipywidgets import widgets, HBox\n",
    "from IPython.display import clear_output, display\n",
    "from IPython import __version__ as ipython_version\n",
    "\n",
    "old_IPython = ['5.3.0']\n",
    "\n",
    "#%matplotlib inline -- needs to be ran in jupyter notebook browser\n",
    "\n",
    "\n",
    "class Chart():\n",
    "    \n",
    "    '''\n",
    "    \n",
    "    Chart : creates an interactive chart of your data.\n",
    "        Ex: chart = Chart(df), where df is a Pandas DataFrame\n",
    "    \n",
    "    df : DataFrame to create an interactive chart from.\n",
    "    \n",
    "    x : string of x variable from df or None (starting x variable)\n",
    "    \n",
    "    y : string of x variable from df (starting y variable)\n",
    "    \n",
    "    z : string of x variable from df or None (starting z variable)\n",
    "    \n",
    "    chart_type : string of starting chart, e.g. 'bar'\n",
    "    \n",
    "    \n",
    "    Chart Properties:\n",
    "    \n",
    "    round : integer to round values by (accepts negatives).\n",
    "        Ex: chart.round = 2\n",
    "            chart.round = 3\n",
    "            chart.round = -1\n",
    "           \n",
    "    title : string for chart title or None.\n",
    "        Ex: chart.title = 'Species Sepal Length'\n",
    "        Ex: chart.title = None\n",
    "\n",
    "    xlabel : string for xlabel or None to show x variable.\n",
    "        Ex: chart.xlabel = 'Species'\n",
    "        Ex: chart.xlabel = None\n",
    "    \n",
    "    ylabel : string for ylabel or None to show y variable.\n",
    "        Ex: chart.ylabel = 'Sepal Length'\n",
    "        Ex: chart.ylabel = None\n",
    "\n",
    "    ylim : list for y limit min and max or None.\n",
    "        Ex: chart.ylim = [0, 10]\n",
    "        Ex: chart.ylim = None        \n",
    "\n",
    "    n_counts : boolean to show x-axis n counts.\n",
    "        Ex: chart.n_counts = True\n",
    "        Ex: chart.n_counts = False\n",
    "        \n",
    "    width : integer for plot width\n",
    "        Ex: chart.width = 15\n",
    "        \n",
    "    height : integer for plot height\n",
    "        Ex: chart.height = 6        \n",
    "        \n",
    "    num_format = 'f' for numeric or '%' for percentages.\n",
    "        Ex: chart.num_format = 'f'\n",
    "        Ex: chart.num_format = '%'\n",
    "        \n",
    "    labels : boolean to show value labels.\n",
    "        Ex: chart.labels = True\n",
    "        Ex: chart.labels = False\n",
    "\n",
    "    font_size_multiple : float to change font size. Choose \n",
    "    between .5 (small) and 3 (large)\n",
    "        Ex: chart.font_size_multiple = 1.3\n",
    "        \n",
    "                        \n",
    "    '''\n",
    "    \n",
    "##  init  ##################################################\n",
    "\n",
    "    def __init__(self, df, x=None, y=None, z=None, chart_type='bar'):\n",
    "        \n",
    "        # public attributes\n",
    "        self.df = df.copy()\n",
    "        self.x, self.y, self.z = x, y, z\n",
    "        if self.y is None:\n",
    "            self.y = self.df.select_dtypes(include=[np.number]).columns.tolist()[0]\n",
    "        self.chart_type = chart_type\n",
    "        self.width, self.height = 15, 6\n",
    "        self.num_format = 'f'\n",
    "        self.round = 1\n",
    "        self.n_counts = True\n",
    "        self.labels = True\n",
    "        self.font_size_multiple = 1.3\n",
    "        self.title, self.xlabel, self.ylabel = None, None, None\n",
    "        self.ylim = None\n",
    "    \n",
    "        # widget controls\n",
    "        self._x_select = widgets.Dropdown(\n",
    "            options=[None] + self.df.columns.tolist(),\n",
    "            value=self.x, description='x_axis:')\n",
    "        \n",
    "        self._y_select = widgets.Dropdown(\n",
    "            options=self.df.select_dtypes(include=[np.number]).columns.tolist(),\n",
    "            value=self.y, description='y_axis:')\n",
    "        \n",
    "        self._z_select = widgets.Dropdown(\n",
    "            options=[None] + self.df.columns.tolist(),\n",
    "            value=self.z, description='z_axis:')  \n",
    "        \n",
    "        self._func_select = widgets.Dropdown(\n",
    "            options=['mean', 'median', 'percentile'], \n",
    "            value='mean', description='function:')\n",
    "        \n",
    "        self._percentile_select = widgets.IntSlider(\n",
    "            min=0, max=100, step=1, disabled=True, continuous_update=False, \n",
    "            orientation='horizontal', readout=True, readout_format='d',\n",
    "            value=25, description='%:')\n",
    "        \n",
    "        self._chart_select = widgets.Dropdown(\n",
    "            options=['bar', 'line', 'scatter', 'lm', 'box', 'violin'], \n",
    "            value=self.chart_type, description='chart type:')        \n",
    "        \n",
    "        # widget interaction\n",
    "        self._controls = [self._x_select, self._y_select, self._z_select,\n",
    "                          self._chart_select, self._func_select, \n",
    "                          self._percentile_select]\n",
    "        for control in self._controls:\n",
    "            control.observe(self._on_value_change, names='value')        \n",
    "        \n",
    "        if ipython_version in old_IPython: # clear_output() for old versions\n",
    "            display(HBox([self._x_select, self._y_select, self._z_select]))\n",
    "            display(HBox([self._chart_select, self._func_select, self._percentile_select]))            \n",
    "        \n",
    "    def _on_value_change(self, change):\n",
    "        self.display()            \n",
    "    \n",
    "    def display(self):\n",
    "        self._get_widgets()\n",
    "        self._get_chart_data()           \n",
    "        #self._get_chart_layout()\n",
    "        \n",
    "        \n",
    "##  widgets  ###############################################\n",
    "        \n",
    "    def _get_widgets(self):\n",
    "        \n",
    "        \n",
    "        # func widget\n",
    "        if self._chart_select.value in ['bar', 'line']:\n",
    "            func_disable = False\n",
    "        else:\n",
    "            func_disable = True\n",
    "        self._func_select = widgets.Dropdown(\n",
    "            options=['mean', 'median', 'count', 'percentile'], \n",
    "            value=self._func_select.value, description='function:',\n",
    "            disabled=func_disable)\n",
    "        self._func_select.observe(self._on_value_change, names='value')         \n",
    "        \n",
    "        # percentile widget\n",
    "        if self._func_select.value == 'percentile' and func_disable is False:\n",
    "            pct_disable = False \n",
    "        else:\n",
    "            pct_disable = True\n",
    "        self._percentile_select = widgets.IntSlider(\n",
    "            min=0, max=100, step=1, disabled=pct_disable, continuous_update=False, \n",
    "            orientation='horizontal', readout=True, readout_format='d',\n",
    "            value=self._percentile_select.value, description='%:')\n",
    "        self._percentile_select.observe(self._on_value_change, names='value') \n",
    "        \n",
    "        # clear and replace widgets\n",
    "        clear_output()\n",
    "        if ipython_version in old_IPython: # old versions don't clear widgets with clear_output()\n",
    "            pass\n",
    "        else:\n",
    "            display(HBox([self._x_select, self._y_select, self._z_select]))\n",
    "            display(HBox([self._chart_select, self._func_select, self._percentile_select]))\n",
    "\n",
    "\n",
    "##  data ##################################################        \n",
    "        \n",
    "    def _get_chart_data(self):\n",
    "        \n",
    "        # chart asethetics\n",
    "        if self._chart_select.value in ['bar', 'line', 'box', 'violin']: # not lmplot / scatter\n",
    "            self.fig, self.ax = plt.subplots(figsize=(self.width,self.height))         \n",
    "        sns.set(font_scale=self.font_size_multiple)\n",
    "        sns.set_style('whitegrid')\n",
    "        color = ['#1f77b4', '#ff7f0e', '#2ca02c', '#d62728', '#9467bd', \n",
    "                 '#8c564b', '#e377c2', '#7f7f7f', '#bcbd22', '#17becf']\n",
    "\n",
    "        \n",
    "        def percentile(array):\n",
    "            return(np.percentile(array, self._percentile_select.value))\n",
    "        \n",
    "        # aggregation functions\n",
    "        if self._func_select.value == 'mean': estimator = np.mean\n",
    "        if self._func_select.value == 'median': estimator = np.median\n",
    "        if self._func_select.value == 'count': estimator = len   \n",
    "        if self._func_select.value == 'percentile': estimator = percentile \n",
    "#             print('percentile function is not implemented yet')\n",
    "#             return\n",
    "            # estimator = np.percentile(a=self, q=self._percentile_select.value)    \n",
    "        \n",
    "        \n",
    "        # chart properties\n",
    "        if self._chart_select.value == 'bar':\n",
    "            sns.barplot(data=self.df, x=self._x_select.value, y=self._y_select.value, \n",
    "                        hue=self._z_select.value, estimator=estimator, ci=None, palette=color)\n",
    "            \n",
    "        if self._chart_select.value == 'line':\n",
    "            sns.pointplot(data=self.df, x=self._x_select.value, y=self._y_select.value, \n",
    "                          hue=self._z_select.value, estimator=estimator, ci=None)\n",
    "\n",
    "        if self._chart_select.value in ['scatter', 'lm']:\n",
    "            if self._x_select.value is  None:\n",
    "                print('Error: ' + self._chart_select.value + ' x cannot be None')\n",
    "                return\n",
    "            if not (np.issubdtype(self.df[self._x_select.value].dtype, np.number) &\n",
    "                    np.issubdtype(self.df[self._y_select.value].dtype, np.number)):\n",
    "                print('Error: ' + self._chart_select.value + ' must use numeric inputs for x, y')\n",
    "                return\n",
    "            reg_boolean = True if self._chart_select.value == 'lm' else False            \n",
    "            sns.lmplot(data=self.df, x=self._x_select.value, y=self._y_select.value, \n",
    "                       hue=self._z_select.value, palette=color,\n",
    "                       size=self.height, aspect=self.width / self.height,                              \n",
    "                       fit_reg=reg_boolean, x_jitter=.1, y_jitter=.1, scatter_kws={'alpha':0.5})\n",
    "                      \n",
    "        if self._chart_select.value == 'box':\n",
    "            sns.boxplot(data=self.df, x=self._x_select.value, y=self._y_select.value, \n",
    "                        hue=self._z_select.value, palette=color)    \n",
    "\n",
    "        if self._chart_select.value == 'violin':\n",
    "            sns.violinplot(data=self.df, x=self._x_select.value, y=self._y_select.value, \n",
    "                           hue=self._z_select.value, palette=color)  \n",
    "\n",
    "##  y labels ##############################################        \n",
    "\n",
    "        if self.ylim is not None: self.ax.set_ylim(self.ylim[0], self.ylim[1])\n",
    "\n",
    "        str_format = '{:.' + str(self.round) + str(self.num_format) +'}'\n",
    "        height_padding = (self.ax.get_yticks()[-1] - self.ax.get_yticks()[0]) / 50.0\n",
    "    \n",
    "\n",
    "        if self.labels is True:\n",
    "            \n",
    "            if self._chart_select.value in ['bar']:\n",
    "                for p in self.ax.patches:\n",
    "                    ylab = p.get_height()\n",
    "                    if np.isnan(ylab):\n",
    "                        self.ax.text(x=0, y=0, s='', ha=\"center\")        \n",
    "                    else:\n",
    "                        self.ax.text(x=p.get_x()+p.get_width()/2.,\n",
    "                                      y=ylab + 0,\n",
    "                                      s=str_format.format(ylab),\n",
    "                                      ha=\"center\")\n",
    "\n",
    "            if self._chart_select.value in ['line']:\n",
    "                for line in self.ax.lines:\n",
    "                    for p in zip(self.ax.get_xticks(), line.get_ydata()):\n",
    "                        ylab = p[1]\n",
    "                        if np.isnan(ylab):\n",
    "                            self.ax.text(x=p[0], y=0, s='')\n",
    "                        else:\n",
    "                            self.ax.text(x=p[0], \n",
    "                                         y=ylab + height_padding, \n",
    "                                         s=str_format.format(ylab))\n",
    "                        \n",
    "\n",
    "##  x labels ##############################################        \n",
    "\n",
    "        if self.n_counts is True and self._x_select.value != None:\n",
    "        \n",
    "            if self._chart_select.value in ['bar', 'line', 'box', 'violin']:\n",
    "\n",
    "                labels = []\n",
    "                series_string = pd.Series([str(x) for x in self.df[self._x_select.value]])\n",
    "                for p in self.ax.get_xticklabels():\n",
    "                    labels.append(p.get_text() + '\\n' + \n",
    "                                  '(n=' + str((series_string == p.get_text()).sum()) + ')')\n",
    "\n",
    "                self.ax.set_xticklabels(labels)\n",
    "        \n",
    "        \n",
    "##  chart type ############################################        \n",
    "        \n",
    "\n",
    "        \n",
    "    \n",
    "##  layout ################################################        \n",
    "        \n",
    "        self.ax.set_yticklabels([str_format.format(x) for x in self.ax.get_yticks()])\n",
    "    \n",
    "        if self._z_select.value is not None:\n",
    "            self.ax.legend(loc='center left', bbox_to_anchor=(1, 0.5))\n",
    "            \n",
    "        if self.ylabel is not None: self.ax.set_ylabel(self.ylabel)     \n",
    "        \n",
    "        if self.xlabel is not None: self.ax.set_xlabel(self.xlabel)\n",
    "            \n",
    "        if self.title is not None: self.ax.set_title(self.title)\n",
    "            \n"
   ]
  },
  {
   "cell_type": "code",
   "execution_count": 154,
   "metadata": {
    "collapsed": true
   },
   "outputs": [],
   "source": [
    "%matplotlib inline"
   ]
  },
  {
   "cell_type": "code",
   "execution_count": null,
   "metadata": {
    "collapsed": true
   },
   "outputs": [],
   "source": []
  },
  {
   "cell_type": "code",
   "execution_count": 28,
   "metadata": {},
   "outputs": [
    {
     "data": {
      "text/plain": [
       "'\\nline chart z colors\\n'"
      ]
     },
     "execution_count": 28,
     "metadata": {},
     "output_type": "execute_result"
    }
   ],
   "source": [
    "'''\n",
    "line chart z colors\n",
    "'''"
   ]
  },
  {
   "cell_type": "code",
   "execution_count": 155,
   "metadata": {
    "collapsed": true
   },
   "outputs": [],
   "source": [
    "b = Chart(df=df)"
   ]
  },
  {
   "cell_type": "code",
   "execution_count": 156,
   "metadata": {},
   "outputs": [
    {
     "data": {
      "application/vnd.jupyter.widget-view+json": {
       "model_id": "4536690a541741d5a19fa043da728e82",
       "version_major": 2,
       "version_minor": 0
      },
      "text/html": [
       "<p>Failed to display Jupyter Widget of type <code>HBox</code>.</p>\n",
       "<p>\n",
       "  If you're reading this message in Jupyter Notebook or JupyterLab, it may mean\n",
       "  that the widgets JavaScript is still loading. If this message persists, it\n",
       "  likely means that the widgets JavaScript library is either not installed or\n",
       "  not enabled. See the <a href=\"https://ipywidgets.readthedocs.io/en/stable/user_install.html\">Jupyter\n",
       "  Widgets Documentation</a> for setup instructions.\n",
       "</p>\n",
       "<p>\n",
       "  If you're reading this message in another notebook frontend (for example, a static\n",
       "  rendering on GitHub or <a href=\"https://nbviewer.jupyter.org/\">NBViewer</a>),\n",
       "  it may mean that your frontend doesn't currently support widgets.\n",
       "</p>\n"
      ],
      "text/plain": [
       "HBox(children=(Dropdown(description='x_axis:', index=5, options=(None, 'PassengerId', 'Survived', 'Pclass', 'Name', 'Sex', 'Age', 'SibSp', 'Parch', 'Ticket', 'Fare', 'Embarked'), value='Sex'), Dropdown(description='y_axis:', options=('PassengerId', 'Survived', 'Pclass', 'Age', 'SibSp', 'Parch', 'Fare'), value='PassengerId'), Dropdown(description='z_axis:', index=3, options=(None, 'PassengerId', 'Survived', 'Pclass', 'Name', 'Sex', 'Age', 'SibSp', 'Parch', 'Ticket', 'Fare', 'Embarked'), value='Pclass')))"
      ]
     },
     "metadata": {},
     "output_type": "display_data"
    },
    {
     "data": {
      "application/vnd.jupyter.widget-view+json": {
       "model_id": "44fa23c0becd493f9b5ea4f508fb795b",
       "version_major": 2,
       "version_minor": 0
      },
      "text/html": [
       "<p>Failed to display Jupyter Widget of type <code>HBox</code>.</p>\n",
       "<p>\n",
       "  If you're reading this message in Jupyter Notebook or JupyterLab, it may mean\n",
       "  that the widgets JavaScript is still loading. If this message persists, it\n",
       "  likely means that the widgets JavaScript library is either not installed or\n",
       "  not enabled. See the <a href=\"https://ipywidgets.readthedocs.io/en/stable/user_install.html\">Jupyter\n",
       "  Widgets Documentation</a> for setup instructions.\n",
       "</p>\n",
       "<p>\n",
       "  If you're reading this message in another notebook frontend (for example, a static\n",
       "  rendering on GitHub or <a href=\"https://nbviewer.jupyter.org/\">NBViewer</a>),\n",
       "  it may mean that your frontend doesn't currently support widgets.\n",
       "</p>\n"
      ],
      "text/plain": [
       "HBox(children=(Dropdown(description='chart type:', options=('bar', 'line', 'scatter', 'lm', 'box', 'violin'), value='bar'), Dropdown(description='function:', options=('mean', 'median', 'count', 'percentile'), value='mean'), IntSlider(value=25, continuous_update=False, description='%:', disabled=True)))"
      ]
     },
     "metadata": {},
     "output_type": "display_data"
    },
    {
     "data": {
      "image/png": "[encoded data removed]",
      "text/plain": [
       "<matplotlib.figure.Figure at 0x11d0cb630>"
      ]
     },
     "metadata": {},
     "output_type": "display_data"
    }
   ],
   "source": [
    "b.display()"
   ]
  },
  {
   "cell_type": "code",
   "execution_count": 167,
   "metadata": {
    "collapsed": true
   },
   "outputs": [],
   "source": [
    "c = Chart(df)\n",
    "\n",
    "d = Chart(df)\n"
   ]
  },
  {
   "cell_type": "code",
   "execution_count": 172,
   "metadata": {},
   "outputs": [
    {
     "data": {
      "image/png": "[encoded data removed]",
      "text/plain": [
       "<matplotlib.figure.Figure at 0x11e6b1278>"
      ]
     },
     "execution_count": 172,
     "metadata": {},
     "output_type": "execute_result"
    }
   ],
   "source": [
    "c.ax.figure\n",
    "d.ax.figure"
   ]
  },
  {
   "cell_type": "code",
   "execution_count": null,
   "metadata": {
    "collapsed": true
   },
   "outputs": [],
   "source": []
  }
 ],
 "metadata": {
  "kernelspec": {
   "display_name": "Python 3",
   "language": "python",
   "name": "python3"
  },
  "language_info": {
   "codemirror_mode": {
    "name": "ipython",
    "version": 3
   },
   "file_extension": ".py",
   "mimetype": "text/x-python",
   "name": "python",
   "nbconvert_exporter": "python",
   "pygments_lexer": "ipython3",
   "version": "3.6.2"
  }
 },
 "nbformat": 4,
 "nbformat_minor": 2
}
