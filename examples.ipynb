{
 "cells": [
  {
   "cell_type": "markdown",
   "metadata": {},
   "source": [
    "# Examples"
   ]
  },
  {
   "cell_type": "code",
   "execution_count": 1,
   "metadata": {
    "collapsed": true
   },
   "outputs": [],
   "source": [
    "from chartExplorer import Chart\n",
    "import pandas as pd\n",
    "%matplotlib inline"
   ]
  },
  {
   "cell_type": "code",
   "execution_count": 2,
   "metadata": {
    "collapsed": true
   },
   "outputs": [],
   "source": [
    "df = pd.read_csv('train_kaggle_titanic.csv')\n",
    "df = df.drop('Cabin', axis=1)\n",
    "df = df.dropna()"
   ]
  },
  {
   "cell_type": "markdown",
   "metadata": {},
   "source": [
    "##### Bar plot for x='Pclass', y='Survived', z='Sex', chart_type='bar'"
   ]
  },
  {
   "cell_type": "code",
   "execution_count": 3,
   "metadata": {
    "collapsed": true
   },
   "outputs": [],
   "source": [
    "a = Chart(df)"
   ]
  },
  {
   "cell_type": "code",
   "execution_count": 4,
   "metadata": {},
   "outputs": [
    {
     "data": {
      "application/vnd.jupyter.widget-view+json": {
       "model_id": "1617ed61b9ff4d00a636a3eb611ded80",
       "version_major": 2,
       "version_minor": 0
      },
      "text/html": [
       "<p>Failed to display Jupyter Widget of type <code>HBox</code>.</p>\n",
       "<p>\n",
       "  If you're reading this message in Jupyter Notebook or JupyterLab, it may mean\n",
       "  that the widgets JavaScript is still loading. If this message persists, it\n",
       "  likely means that the widgets JavaScript library is either not installed or\n",
       "  not enabled. See the <a href=\"https://ipywidgets.readthedocs.io/en/stable/user_install.html\">Jupyter\n",
       "  Widgets Documentation</a> for setup instructions.\n",
       "</p>\n",
       "<p>\n",
       "  If you're reading this message in another notebook frontend (for example, a static\n",
       "  rendering on GitHub or <a href=\"https://nbviewer.jupyter.org/\">NBViewer</a>),\n",
       "  it may mean that your frontend doesn't currently support widgets.\n",
       "</p>\n"
      ],
      "text/plain": [
       "HBox(children=(Dropdown(description='x_axis:', index=3, options=(None, 'PassengerId', 'Survived', 'Pclass', 'Name', 'Sex', 'Age', 'SibSp', 'Parch', 'Ticket', 'Fare', 'Embarked'), value='Pclass'), Dropdown(description='y_axis:', index=1, options=('PassengerId', 'Survived', 'Pclass', 'Age', 'SibSp', 'Parch', 'Fare'), value='Survived'), Dropdown(description='z_axis:', index=5, options=(None, 'PassengerId', 'Survived', 'Pclass', 'Name', 'Sex', 'Age', 'SibSp', 'Parch', 'Ticket', 'Fare', 'Embarked'), value='Sex')))"
      ]
     },
     "metadata": {},
     "output_type": "display_data"
    },
    {
     "data": {
      "application/vnd.jupyter.widget-view+json": {
       "model_id": "4647543f3d9d466e8bf647a19e05db40",
       "version_major": 2,
       "version_minor": 0
      },
      "text/html": [
       "<p>Failed to display Jupyter Widget of type <code>HBox</code>.</p>\n",
       "<p>\n",
       "  If you're reading this message in Jupyter Notebook or JupyterLab, it may mean\n",
       "  that the widgets JavaScript is still loading. If this message persists, it\n",
       "  likely means that the widgets JavaScript library is either not installed or\n",
       "  not enabled. See the <a href=\"https://ipywidgets.readthedocs.io/en/stable/user_install.html\">Jupyter\n",
       "  Widgets Documentation</a> for setup instructions.\n",
       "</p>\n",
       "<p>\n",
       "  If you're reading this message in another notebook frontend (for example, a static\n",
       "  rendering on GitHub or <a href=\"https://nbviewer.jupyter.org/\">NBViewer</a>),\n",
       "  it may mean that your frontend doesn't currently support widgets.\n",
       "</p>\n"
      ],
      "text/plain": [
       "HBox(children=(Dropdown(description='chart type:', options=('bar', 'line', 'scatter', 'lm', 'box', 'violin'), value='bar'), Dropdown(description='function:', options=('mean', 'median', 'count', 'percentile'), value='mean'), IntSlider(value=25, continuous_update=False, description='%:', disabled=True)))"
      ]
     },
     "metadata": {},
     "output_type": "display_data"
    },
    {
     "data": {
      "image/png": "[encoded data removed]",
      "text/plain": [
       "<matplotlib.figure.Figure at 0x115d3e898>"
      ]
     },
     "metadata": {},
     "output_type": "display_data"
    }
   ],
   "source": [
    "a.num_format='%'\n",
    "a.display()"
   ]
  },
  {
   "cell_type": "markdown",
   "metadata": {},
   "source": [
    "##### Line plot for x='SibSp', y='Survived', z='Sex', chart_type='line'"
   ]
  },
  {
   "cell_type": "code",
   "execution_count": 5,
   "metadata": {
    "collapsed": true
   },
   "outputs": [],
   "source": [
    "b = Chart(df)"
   ]
  },
  {
   "cell_type": "code",
   "execution_count": 6,
   "metadata": {},
   "outputs": [
    {
     "data": {
      "application/vnd.jupyter.widget-view+json": {
       "model_id": "ec438facf22b46468c8fd54a3c6f602b",
       "version_major": 2,
       "version_minor": 0
      },
      "text/html": [
       "<p>Failed to display Jupyter Widget of type <code>HBox</code>.</p>\n",
       "<p>\n",
       "  If you're reading this message in Jupyter Notebook or JupyterLab, it may mean\n",
       "  that the widgets JavaScript is still loading. If this message persists, it\n",
       "  likely means that the widgets JavaScript library is either not installed or\n",
       "  not enabled. See the <a href=\"https://ipywidgets.readthedocs.io/en/stable/user_install.html\">Jupyter\n",
       "  Widgets Documentation</a> for setup instructions.\n",
       "</p>\n",
       "<p>\n",
       "  If you're reading this message in another notebook frontend (for example, a static\n",
       "  rendering on GitHub or <a href=\"https://nbviewer.jupyter.org/\">NBViewer</a>),\n",
       "  it may mean that your frontend doesn't currently support widgets.\n",
       "</p>\n"
      ],
      "text/plain": [
       "HBox(children=(Dropdown(description='x_axis:', index=7, options=(None, 'PassengerId', 'Survived', 'Pclass', 'Name', 'Sex', 'Age', 'SibSp', 'Parch', 'Ticket', 'Fare', 'Embarked'), value='SibSp'), Dropdown(description='y_axis:', index=1, options=('PassengerId', 'Survived', 'Pclass', 'Age', 'SibSp', 'Parch', 'Fare'), value='Survived'), Dropdown(description='z_axis:', index=5, options=(None, 'PassengerId', 'Survived', 'Pclass', 'Name', 'Sex', 'Age', 'SibSp', 'Parch', 'Ticket', 'Fare', 'Embarked'), value='Sex')))"
      ]
     },
     "metadata": {},
     "output_type": "display_data"
    },
    {
     "data": {
      "application/vnd.jupyter.widget-view+json": {
       "model_id": "564acfd0e8ab4b9095ecd864b9ac378b",
       "version_major": 2,
       "version_minor": 0
      },
      "text/html": [
       "<p>Failed to display Jupyter Widget of type <code>HBox</code>.</p>\n",
       "<p>\n",
       "  If you're reading this message in Jupyter Notebook or JupyterLab, it may mean\n",
       "  that the widgets JavaScript is still loading. If this message persists, it\n",
       "  likely means that the widgets JavaScript library is either not installed or\n",
       "  not enabled. See the <a href=\"https://ipywidgets.readthedocs.io/en/stable/user_install.html\">Jupyter\n",
       "  Widgets Documentation</a> for setup instructions.\n",
       "</p>\n",
       "<p>\n",
       "  If you're reading this message in another notebook frontend (for example, a static\n",
       "  rendering on GitHub or <a href=\"https://nbviewer.jupyter.org/\">NBViewer</a>),\n",
       "  it may mean that your frontend doesn't currently support widgets.\n",
       "</p>\n"
      ],
      "text/plain": [
       "HBox(children=(Dropdown(description='chart type:', index=1, options=('bar', 'line', 'scatter', 'lm', 'box', 'violin'), value='line'), Dropdown(description='function:', options=('mean', 'median', 'count', 'percentile'), value='mean'), IntSlider(value=25, continuous_update=False, description='%:', disabled=True)))"
      ]
     },
     "metadata": {},
     "output_type": "display_data"
    },
    {
     "data": {
      "image/png": "[encoded data removed]",
      "text/plain": [
       "<matplotlib.figure.Figure at 0x115bab0b8>"
      ]
     },
     "metadata": {},
     "output_type": "display_data"
    }
   ],
   "source": [
    "b.display()"
   ]
  },
  {
   "cell_type": "markdown",
   "metadata": {},
   "source": [
    "##### Box plot for x='Embarked', y='Age', z='Sex', chart_type='box'"
   ]
  },
  {
   "cell_type": "code",
   "execution_count": 7,
   "metadata": {
    "collapsed": true
   },
   "outputs": [],
   "source": [
    "c = Chart(df)"
   ]
  },
  {
   "cell_type": "code",
   "execution_count": 8,
   "metadata": {},
   "outputs": [
    {
     "data": {
      "application/vnd.jupyter.widget-view+json": {
       "model_id": "64f876ebf6e74b5aa194bccf051597c8",
       "version_major": 2,
       "version_minor": 0
      },
      "text/html": [
       "<p>Failed to display Jupyter Widget of type <code>HBox</code>.</p>\n",
       "<p>\n",
       "  If you're reading this message in Jupyter Notebook or JupyterLab, it may mean\n",
       "  that the widgets JavaScript is still loading. If this message persists, it\n",
       "  likely means that the widgets JavaScript library is either not installed or\n",
       "  not enabled. See the <a href=\"https://ipywidgets.readthedocs.io/en/stable/user_install.html\">Jupyter\n",
       "  Widgets Documentation</a> for setup instructions.\n",
       "</p>\n",
       "<p>\n",
       "  If you're reading this message in another notebook frontend (for example, a static\n",
       "  rendering on GitHub or <a href=\"https://nbviewer.jupyter.org/\">NBViewer</a>),\n",
       "  it may mean that your frontend doesn't currently support widgets.\n",
       "</p>\n"
      ],
      "text/plain": [
       "HBox(children=(Dropdown(description='x_axis:', index=11, options=(None, 'PassengerId', 'Survived', 'Pclass', 'Name', 'Sex', 'Age', 'SibSp', 'Parch', 'Ticket', 'Fare', 'Embarked'), value='Embarked'), Dropdown(description='y_axis:', index=3, options=('PassengerId', 'Survived', 'Pclass', 'Age', 'SibSp', 'Parch', 'Fare'), value='Age'), Dropdown(description='z_axis:', index=5, options=(None, 'PassengerId', 'Survived', 'Pclass', 'Name', 'Sex', 'Age', 'SibSp', 'Parch', 'Ticket', 'Fare', 'Embarked'), value='Sex')))"
      ]
     },
     "metadata": {},
     "output_type": "display_data"
    },
    {
     "data": {
      "application/vnd.jupyter.widget-view+json": {
       "model_id": "7ba22ce3ac294169a2390315202b7a3c",
       "version_major": 2,
       "version_minor": 0
      },
      "text/html": [
       "<p>Failed to display Jupyter Widget of type <code>HBox</code>.</p>\n",
       "<p>\n",
       "  If you're reading this message in Jupyter Notebook or JupyterLab, it may mean\n",
       "  that the widgets JavaScript is still loading. If this message persists, it\n",
       "  likely means that the widgets JavaScript library is either not installed or\n",
       "  not enabled. See the <a href=\"https://ipywidgets.readthedocs.io/en/stable/user_install.html\">Jupyter\n",
       "  Widgets Documentation</a> for setup instructions.\n",
       "</p>\n",
       "<p>\n",
       "  If you're reading this message in another notebook frontend (for example, a static\n",
       "  rendering on GitHub or <a href=\"https://nbviewer.jupyter.org/\">NBViewer</a>),\n",
       "  it may mean that your frontend doesn't currently support widgets.\n",
       "</p>\n"
      ],
      "text/plain": [
       "HBox(children=(Dropdown(description='chart type:', index=4, options=('bar', 'line', 'scatter', 'lm', 'box', 'violin'), value='box'), Dropdown(description='function:', disabled=True, options=('mean', 'median', 'count', 'percentile'), value='mean'), IntSlider(value=25, continuous_update=False, description='%:', disabled=True)))"
      ]
     },
     "metadata": {},
     "output_type": "display_data"
    },
    {
     "data": {
      "image/png": "[encoded data removed]",
      "text/plain": [
       "<matplotlib.figure.Figure at 0x115c9be10>"
      ]
     },
     "metadata": {},
     "output_type": "display_data"
    }
   ],
   "source": [
    "c.display()"
   ]
  },
  {
   "cell_type": "markdown",
   "metadata": {},
   "source": [
    "##### Linear model plot for x='Age', y='Fare', z='Embarked', chart_type='lm'"
   ]
  },
  {
   "cell_type": "code",
   "execution_count": 9,
   "metadata": {
    "collapsed": true
   },
   "outputs": [],
   "source": [
    "d = Chart(df)"
   ]
  },
  {
   "cell_type": "code",
   "execution_count": 10,
   "metadata": {},
   "outputs": [
    {
     "data": {
      "application/vnd.jupyter.widget-view+json": {
       "model_id": "b2d28800c2ba477692246f8db13e4045",
       "version_major": 2,
       "version_minor": 0
      },
      "text/html": [
       "<p>Failed to display Jupyter Widget of type <code>HBox</code>.</p>\n",
       "<p>\n",
       "  If you're reading this message in Jupyter Notebook or JupyterLab, it may mean\n",
       "  that the widgets JavaScript is still loading. If this message persists, it\n",
       "  likely means that the widgets JavaScript library is either not installed or\n",
       "  not enabled. See the <a href=\"https://ipywidgets.readthedocs.io/en/stable/user_install.html\">Jupyter\n",
       "  Widgets Documentation</a> for setup instructions.\n",
       "</p>\n",
       "<p>\n",
       "  If you're reading this message in another notebook frontend (for example, a static\n",
       "  rendering on GitHub or <a href=\"https://nbviewer.jupyter.org/\">NBViewer</a>),\n",
       "  it may mean that your frontend doesn't currently support widgets.\n",
       "</p>\n"
      ],
      "text/plain": [
       "HBox(children=(Dropdown(description='x_axis:', index=6, options=(None, 'PassengerId', 'Survived', 'Pclass', 'Name', 'Sex', 'Age', 'SibSp', 'Parch', 'Ticket', 'Fare', 'Embarked'), value='Age'), Dropdown(description='y_axis:', index=6, options=('PassengerId', 'Survived', 'Pclass', 'Age', 'SibSp', 'Parch', 'Fare'), value='Fare'), Dropdown(description='z_axis:', index=11, options=(None, 'PassengerId', 'Survived', 'Pclass', 'Name', 'Sex', 'Age', 'SibSp', 'Parch', 'Ticket', 'Fare', 'Embarked'), value='Embarked')))"
      ]
     },
     "metadata": {},
     "output_type": "display_data"
    },
    {
     "data": {
      "application/vnd.jupyter.widget-view+json": {
       "model_id": "7a13c7275e184c30b038a5839edd3d4a",
       "version_major": 2,
       "version_minor": 0
      },
      "text/html": [
       "<p>Failed to display Jupyter Widget of type <code>HBox</code>.</p>\n",
       "<p>\n",
       "  If you're reading this message in Jupyter Notebook or JupyterLab, it may mean\n",
       "  that the widgets JavaScript is still loading. If this message persists, it\n",
       "  likely means that the widgets JavaScript library is either not installed or\n",
       "  not enabled. See the <a href=\"https://ipywidgets.readthedocs.io/en/stable/user_install.html\">Jupyter\n",
       "  Widgets Documentation</a> for setup instructions.\n",
       "</p>\n",
       "<p>\n",
       "  If you're reading this message in another notebook frontend (for example, a static\n",
       "  rendering on GitHub or <a href=\"https://nbviewer.jupyter.org/\">NBViewer</a>),\n",
       "  it may mean that your frontend doesn't currently support widgets.\n",
       "</p>\n"
      ],
      "text/plain": [
       "HBox(children=(Dropdown(description='chart type:', index=3, options=('bar', 'line', 'scatter', 'lm', 'box', 'violin'), value='lm'), Dropdown(description='function:', disabled=True, options=('mean', 'median', 'count', 'percentile'), value='mean'), IntSlider(value=25, continuous_update=False, description='%:', disabled=True)))"
      ]
     },
     "metadata": {},
     "output_type": "display_data"
    },
    {
     "data": {
      "image/png": "[encoded data removed]",
      "text/plain": [
       "<matplotlib.figure.Figure at 0x11949eb38>"
      ]
     },
     "metadata": {},
     "output_type": "display_data"
    }
   ],
   "source": [
    "d.display()"
   ]
  },
  {
   "cell_type": "code",
   "execution_count": null,
   "metadata": {
    "collapsed": true
   },
   "outputs": [],
   "source": []
  }
 ],
 "metadata": {
  "kernelspec": {
   "display_name": "Python 3",
   "language": "python",
   "name": "python3"
  },
  "language_info": {
   "codemirror_mode": {
    "name": "ipython",
    "version": 3
   },
   "file_extension": ".py",
   "mimetype": "text/x-python",
   "name": "python",
   "nbconvert_exporter": "python",
   "pygments_lexer": "ipython3",
   "version": "3.6.2"
  },
  "widgets": {
   "application/vnd.jupyter.widget-state+json": {
    "state": {
     "01c297efcc054fbd8e33f2c5ed78ea16": {
      "model_module": "@jupyter-widgets/base",
      "model_module_version": "1.0.0",
      "model_name": "LayoutModel",
      "state": {}
     },
     "055b811d80304a629dc804b91d98bede": {
      "model_module": "@jupyter-widgets/base",
      "model_module_version": "1.0.0",
      "model_name": "LayoutModel",
      "state": {}
     },
     "055bbdbbd4d145f789f170237f483827": {
      "model_module": "@jupyter-widgets/controls",
      "model_module_version": "1.0.0",
      "model_name": "DropdownModel",
      "state": {
       "_options_labels": [
        "mean",
        "median",
        "percentile"
       ],
       "description": "function:",
       "index": 0,
       "layout": "IPY_MODEL_399e7d3003954d00bef8023631ac7c44",
       "style": "IPY_MODEL_7e274c0c3813412c979bbfdbddbf5f49"
      }
     },
     "0d31d5276f2944c7a592e411ca5d9011": {
      "model_module": "@jupyter-widgets/base",
      "model_module_version": "1.0.0",
      "model_name": "LayoutModel",
      "state": {}
     },
     "0d7c565c50364ec68716d5dbce9841a1": {
      "model_module": "@jupyter-widgets/controls",
      "model_module_version": "1.0.0",
      "model_name": "IntSliderModel",
      "state": {
       "continuous_update": false,
       "description": "%:",
       "disabled": true,
       "layout": "IPY_MODEL_601661b0acf946278bd610f06b42f47f",
       "style": "IPY_MODEL_894281c458fe41299b18ec45128b0f3a",
       "value": 25
      }
     },
     "0f3c2a6e429641f9879f441ea4288e94": {
      "model_module": "@jupyter-widgets/controls",
      "model_module_version": "1.0.0",
      "model_name": "DescriptionStyleModel",
      "state": {
       "description_width": ""
      }
     },
     "1402f5f3bf8042dfa05c68c3111d65e6": {
      "model_module": "@jupyter-widgets/controls",
      "model_module_version": "1.0.0",
      "model_name": "SliderStyleModel",
      "state": {
       "description_width": ""
      }
     },
     "1ab17154ff334796bdb421bd2e2966d8": {
      "model_module": "@jupyter-widgets/controls",
      "model_module_version": "1.0.0",
      "model_name": "SliderStyleModel",
      "state": {
       "description_width": ""
      }
     },
     "209c826e78d0489eb941d1ef7e79667f": {
      "model_module": "@jupyter-widgets/controls",
      "model_module_version": "1.0.0",
      "model_name": "DescriptionStyleModel",
      "state": {
       "description_width": ""
      }
     },
     "23a776b7383e4a71b9ad013522f03b6d": {
      "model_module": "@jupyter-widgets/base",
      "model_module_version": "1.0.0",
      "model_name": "LayoutModel",
      "state": {}
     },
     "277ac433a09b45739dceae5fa3b406ea": {
      "model_module": "@jupyter-widgets/base",
      "model_module_version": "1.0.0",
      "model_name": "LayoutModel",
      "state": {}
     },
     "2cdb5ed0d944406086e98859627eeb76": {
      "model_module": "@jupyter-widgets/base",
      "model_module_version": "1.0.0",
      "model_name": "LayoutModel",
      "state": {}
     },
     "2e7605946913432184eccf6fa8f8adee": {
      "model_module": "@jupyter-widgets/base",
      "model_module_version": "1.0.0",
      "model_name": "LayoutModel",
      "state": {}
     },
     "32a15801ff9945368167fabf8c82ea14": {
      "model_module": "@jupyter-widgets/controls",
      "model_module_version": "1.0.0",
      "model_name": "DropdownModel",
      "state": {
       "_options_labels": [
        "mean",
        "median",
        "count",
        "percentile"
       ],
       "description": "function:",
       "index": 0,
       "layout": "IPY_MODEL_8e8626e060124853a9c5683fcdd97077",
       "style": "IPY_MODEL_0f3c2a6e429641f9879f441ea4288e94"
      }
     },
     "32a96100139f4ffc8636a47d5636b86f": {
      "model_module": "@jupyter-widgets/base",
      "model_module_version": "1.0.0",
      "model_name": "LayoutModel",
      "state": {}
     },
     "339f70f71a104f84b93a3abb8709d614": {
      "model_module": "@jupyter-widgets/controls",
      "model_module_version": "1.0.0",
      "model_name": "DescriptionStyleModel",
      "state": {
       "description_width": ""
      }
     },
     "352c3196355e44c0a9f8d90ca8e73824": {
      "model_module": "@jupyter-widgets/controls",
      "model_module_version": "1.0.0",
      "model_name": "HBoxModel",
      "state": {
       "children": [
        "IPY_MODEL_ac1f24bd43f84f5eb8499d61e2b6419e",
        "IPY_MODEL_8af8ab7c2966451f92b10d970780a4c0",
        "IPY_MODEL_9b64408de6594326b2c601cf2156ddb5"
       ],
       "layout": "IPY_MODEL_bd3c92888cda4836b8771ab02a999d17"
      }
     },
     "3797b4191cc34c0ea542b56e24599700": {
      "model_module": "@jupyter-widgets/base",
      "model_module_version": "1.0.0",
      "model_name": "LayoutModel",
      "state": {}
     },
     "3830a17e1f6b4ab7bf227fd3dcc791ad": {
      "model_module": "@jupyter-widgets/controls",
      "model_module_version": "1.0.0",
      "model_name": "IntSliderModel",
      "state": {
       "continuous_update": false,
       "description": "%:",
       "disabled": true,
       "layout": "IPY_MODEL_23a776b7383e4a71b9ad013522f03b6d",
       "style": "IPY_MODEL_77fdec405a7247d8bae46153538bba95",
       "value": 25
      }
     },
     "399e7d3003954d00bef8023631ac7c44": {
      "model_module": "@jupyter-widgets/base",
      "model_module_version": "1.0.0",
      "model_name": "LayoutModel",
      "state": {}
     },
     "3b53509bff6141448d6d51a22bc5a8e2": {
      "model_module": "@jupyter-widgets/controls",
      "model_module_version": "1.0.0",
      "model_name": "SliderStyleModel",
      "state": {
       "description_width": ""
      }
     },
     "40215c7f04ac45c3bace8e05b69fecd6": {
      "model_module": "@jupyter-widgets/base",
      "model_module_version": "1.0.0",
      "model_name": "LayoutModel",
      "state": {}
     },
     "4030c04281c948c5adbbda8c930b423f": {
      "model_module": "@jupyter-widgets/controls",
      "model_module_version": "1.0.0",
      "model_name": "DescriptionStyleModel",
      "state": {
       "description_width": ""
      }
     },
     "412cd35de64944c3b729b459c7930c5b": {
      "model_module": "@jupyter-widgets/controls",
      "model_module_version": "1.0.0",
      "model_name": "SliderStyleModel",
      "state": {
       "description_width": ""
      }
     },
     "438026d60b9241068e750b95bece2c2c": {
      "model_module": "@jupyter-widgets/base",
      "model_module_version": "1.0.0",
      "model_name": "LayoutModel",
      "state": {}
     },
     "49c2a251f4c94ca68d4f4bb13798b9c0": {
      "model_module": "@jupyter-widgets/controls",
      "model_module_version": "1.0.0",
      "model_name": "IntSliderModel",
      "state": {
       "continuous_update": false,
       "description": "%:",
       "disabled": true,
       "layout": "IPY_MODEL_b912166cc9b04f399ef17bd53ae6bb80",
       "style": "IPY_MODEL_e46e406f04204b86b5c1f02d50fbbe1b",
       "value": 25
      }
     },
     "4bd12eb1e88a49fdb520b45207e5116d": {
      "model_module": "@jupyter-widgets/controls",
      "model_module_version": "1.0.0",
      "model_name": "HBoxModel",
      "state": {
       "children": [
        "IPY_MODEL_f75528278da34332901156cc4314ac25",
        "IPY_MODEL_d1b65ca8c3e04448a5290d478d782051",
        "IPY_MODEL_ac812d6a58054c91a00075b15fcf9953"
       ],
       "layout": "IPY_MODEL_9d10e570cefa4d98bb1dae170d103fb4"
      }
     },
     "4d95ffdabd3b479ba839f2ada9ee81d3": {
      "model_module": "@jupyter-widgets/controls",
      "model_module_version": "1.0.0",
      "model_name": "HBoxModel",
      "state": {
       "children": [
        "IPY_MODEL_f75528278da34332901156cc4314ac25",
        "IPY_MODEL_d1b65ca8c3e04448a5290d478d782051",
        "IPY_MODEL_ac812d6a58054c91a00075b15fcf9953"
       ],
       "layout": "IPY_MODEL_7d530c576e7141129c484995c6922df0"
      }
     },
     "4df9e6f50ae34d03b0ccd0f8b2cf72a0": {
      "model_module": "@jupyter-widgets/controls",
      "model_module_version": "1.0.0",
      "model_name": "HBoxModel",
      "state": {
       "children": [
        "IPY_MODEL_f75528278da34332901156cc4314ac25",
        "IPY_MODEL_d1b65ca8c3e04448a5290d478d782051",
        "IPY_MODEL_ac812d6a58054c91a00075b15fcf9953"
       ],
       "layout": "IPY_MODEL_ed4e81c0046e4a70ad67a1e0d51886a9"
      }
     },
     "561f36a66a95496fac7039d109b53e38": {
      "model_module": "@jupyter-widgets/controls",
      "model_module_version": "1.0.0",
      "model_name": "HBoxModel",
      "state": {
       "children": [
        "IPY_MODEL_ac1f24bd43f84f5eb8499d61e2b6419e",
        "IPY_MODEL_67efc5ad6f774fb0b8c01ce9e70a4759",
        "IPY_MODEL_49c2a251f4c94ca68d4f4bb13798b9c0"
       ],
       "layout": "IPY_MODEL_e3658bacbe31405c81012d5ae24146a9"
      }
     },
     "601661b0acf946278bd610f06b42f47f": {
      "model_module": "@jupyter-widgets/base",
      "model_module_version": "1.0.0",
      "model_name": "LayoutModel",
      "state": {}
     },
     "603735d315af4b97b6b4269fb18274e5": {
      "model_module": "@jupyter-widgets/controls",
      "model_module_version": "1.0.0",
      "model_name": "SliderStyleModel",
      "state": {
       "description_width": ""
      }
     },
     "6219104f39e64a9f8cf58aea2639d168": {
      "model_module": "@jupyter-widgets/base",
      "model_module_version": "1.0.0",
      "model_name": "LayoutModel",
      "state": {}
     },
     "6278e2ca3b7b4abd9f27f16ac798d0ce": {
      "model_module": "@jupyter-widgets/controls",
      "model_module_version": "1.0.0",
      "model_name": "DescriptionStyleModel",
      "state": {
       "description_width": ""
      }
     },
     "658baf97384a46a5a8a939d058927a9d": {
      "model_module": "@jupyter-widgets/controls",
      "model_module_version": "1.0.0",
      "model_name": "HBoxModel",
      "state": {
       "children": [
        "IPY_MODEL_ac1f24bd43f84f5eb8499d61e2b6419e",
        "IPY_MODEL_f4d1c98b2a1f4d89a522d8f1e52a9788",
        "IPY_MODEL_3830a17e1f6b4ab7bf227fd3dcc791ad"
       ],
       "layout": "IPY_MODEL_3797b4191cc34c0ea542b56e24599700"
      }
     },
     "67efc5ad6f774fb0b8c01ce9e70a4759": {
      "model_module": "@jupyter-widgets/controls",
      "model_module_version": "1.0.0",
      "model_name": "DropdownModel",
      "state": {
       "_options_labels": [
        "mean",
        "median",
        "count",
        "percentile"
       ],
       "description": "function:",
       "index": 0,
       "layout": "IPY_MODEL_6bc8bba4f00743e8a1b065bd4e8d2b9e",
       "style": "IPY_MODEL_7633c805cf2d415081a9b46fb0aaec77"
      }
     },
     "6bc8bba4f00743e8a1b065bd4e8d2b9e": {
      "model_module": "@jupyter-widgets/base",
      "model_module_version": "1.0.0",
      "model_name": "LayoutModel",
      "state": {}
     },
     "71202fc339334e4d8a6f5c5f7c68930f": {
      "model_module": "@jupyter-widgets/base",
      "model_module_version": "1.0.0",
      "model_name": "LayoutModel",
      "state": {}
     },
     "718269c7afea41ed875a0959c150277d": {
      "model_module": "@jupyter-widgets/controls",
      "model_module_version": "1.0.0",
      "model_name": "HBoxModel",
      "state": {
       "children": [
        "IPY_MODEL_f75528278da34332901156cc4314ac25",
        "IPY_MODEL_d1b65ca8c3e04448a5290d478d782051",
        "IPY_MODEL_ac812d6a58054c91a00075b15fcf9953"
       ],
       "layout": "IPY_MODEL_40215c7f04ac45c3bace8e05b69fecd6"
      }
     },
     "7633c805cf2d415081a9b46fb0aaec77": {
      "model_module": "@jupyter-widgets/controls",
      "model_module_version": "1.0.0",
      "model_name": "DescriptionStyleModel",
      "state": {
       "description_width": ""
      }
     },
     "77fdec405a7247d8bae46153538bba95": {
      "model_module": "@jupyter-widgets/controls",
      "model_module_version": "1.0.0",
      "model_name": "SliderStyleModel",
      "state": {
       "description_width": ""
      }
     },
     "7894cf0fce154323af5d2c046894c114": {
      "model_module": "@jupyter-widgets/controls",
      "model_module_version": "1.0.0",
      "model_name": "HBoxModel",
      "state": {
       "children": [
        "IPY_MODEL_f75528278da34332901156cc4314ac25",
        "IPY_MODEL_d1b65ca8c3e04448a5290d478d782051",
        "IPY_MODEL_ac812d6a58054c91a00075b15fcf9953"
       ],
       "layout": "IPY_MODEL_2cdb5ed0d944406086e98859627eeb76"
      }
     },
     "7b6d8669ff97401989af45c4acabd97a": {
      "model_module": "@jupyter-widgets/base",
      "model_module_version": "1.0.0",
      "model_name": "LayoutModel",
      "state": {}
     },
     "7d530c576e7141129c484995c6922df0": {
      "model_module": "@jupyter-widgets/base",
      "model_module_version": "1.0.0",
      "model_name": "LayoutModel",
      "state": {}
     },
     "7e274c0c3813412c979bbfdbddbf5f49": {
      "model_module": "@jupyter-widgets/controls",
      "model_module_version": "1.0.0",
      "model_name": "DescriptionStyleModel",
      "state": {
       "description_width": ""
      }
     },
     "7ece7f46b8a14ff2a9368473ca6fc236": {
      "model_module": "@jupyter-widgets/controls",
      "model_module_version": "1.0.0",
      "model_name": "SliderStyleModel",
      "state": {
       "description_width": ""
      }
     },
     "820246baad0a430ba5ee0fc31ab8dbd0": {
      "model_module": "@jupyter-widgets/base",
      "model_module_version": "1.0.0",
      "model_name": "LayoutModel",
      "state": {}
     },
     "833623ab6ae4443496b60fae00c637d3": {
      "model_module": "@jupyter-widgets/controls",
      "model_module_version": "1.0.0",
      "model_name": "HBoxModel",
      "state": {
       "children": [
        "IPY_MODEL_ac1f24bd43f84f5eb8499d61e2b6419e",
        "IPY_MODEL_d0245f2251bf401085b40343fb8e91f0",
        "IPY_MODEL_e4ae8119f94745168edb3314437f998f"
       ],
       "layout": "IPY_MODEL_fc6b4b4851144823b9ea4f0281501f87"
      }
     },
     "894281c458fe41299b18ec45128b0f3a": {
      "model_module": "@jupyter-widgets/controls",
      "model_module_version": "1.0.0",
      "model_name": "SliderStyleModel",
      "state": {
       "description_width": ""
      }
     },
     "89c2cf2b6eca4525887a254224df875c": {
      "model_module": "@jupyter-widgets/controls",
      "model_module_version": "1.0.0",
      "model_name": "IntSliderModel",
      "state": {
       "continuous_update": false,
       "description": "%:",
       "disabled": true,
       "layout": "IPY_MODEL_6219104f39e64a9f8cf58aea2639d168",
       "style": "IPY_MODEL_412cd35de64944c3b729b459c7930c5b",
       "value": 25
      }
     },
     "8a231d53141947a5a2bc037911f68476": {
      "model_module": "@jupyter-widgets/controls",
      "model_module_version": "1.0.0",
      "model_name": "DropdownModel",
      "state": {
       "_options_labels": [
        "mean",
        "median",
        "count",
        "percentile"
       ],
       "description": "function:",
       "index": 0,
       "layout": "IPY_MODEL_fa38478ecc5b45f3b340c783290996a6",
       "style": "IPY_MODEL_ffde75a496084c81a542d843e74e400b"
      }
     },
     "8af8ab7c2966451f92b10d970780a4c0": {
      "model_module": "@jupyter-widgets/controls",
      "model_module_version": "1.0.0",
      "model_name": "DropdownModel",
      "state": {
       "_options_labels": [
        "mean",
        "median",
        "count",
        "percentile"
       ],
       "description": "function:",
       "index": 0,
       "layout": "IPY_MODEL_32a96100139f4ffc8636a47d5636b86f",
       "style": "IPY_MODEL_4030c04281c948c5adbbda8c930b423f"
      }
     },
     "8b8d4d697bde4eed9eb324b7c8870cc4": {
      "model_module": "@jupyter-widgets/controls",
      "model_module_version": "1.0.0",
      "model_name": "DescriptionStyleModel",
      "state": {
       "description_width": ""
      }
     },
     "8bf2e706e74b43d09e87d7d6becf3743": {
      "model_module": "@jupyter-widgets/base",
      "model_module_version": "1.0.0",
      "model_name": "LayoutModel",
      "state": {}
     },
     "8dc15c325ed345449a14cca23ef4a13c": {
      "model_module": "@jupyter-widgets/controls",
      "model_module_version": "1.0.0",
      "model_name": "HBoxModel",
      "state": {
       "children": [
        "IPY_MODEL_f75528278da34332901156cc4314ac25",
        "IPY_MODEL_d1b65ca8c3e04448a5290d478d782051",
        "IPY_MODEL_ac812d6a58054c91a00075b15fcf9953"
       ],
       "layout": "IPY_MODEL_055b811d80304a629dc804b91d98bede"
      }
     },
     "8e3c6cbaedc0481b8a50469bece571bc": {
      "model_module": "@jupyter-widgets/controls",
      "model_module_version": "1.0.0",
      "model_name": "DropdownModel",
      "state": {
       "_options_labels": [
        "mean",
        "median",
        "count",
        "percentile"
       ],
       "description": "function:",
       "index": 0,
       "layout": "IPY_MODEL_a074e58c952f4eafa8957bbf5fdb4a2d",
       "style": "IPY_MODEL_8b8d4d697bde4eed9eb324b7c8870cc4"
      }
     },
     "8e8626e060124853a9c5683fcdd97077": {
      "model_module": "@jupyter-widgets/base",
      "model_module_version": "1.0.0",
      "model_name": "LayoutModel",
      "state": {}
     },
     "989d4cf60a8a41dfa324ca33381a1213": {
      "model_module": "@jupyter-widgets/base",
      "model_module_version": "1.0.0",
      "model_name": "LayoutModel",
      "state": {}
     },
     "993d0e7f4d0b49988ec6913b9e9583b8": {
      "model_module": "@jupyter-widgets/controls",
      "model_module_version": "1.0.0",
      "model_name": "HBoxModel",
      "state": {
       "children": [
        "IPY_MODEL_ac1f24bd43f84f5eb8499d61e2b6419e",
        "IPY_MODEL_8e3c6cbaedc0481b8a50469bece571bc",
        "IPY_MODEL_a791da8c2ed246b19da6e932f67d52e8"
       ],
       "layout": "IPY_MODEL_ad4e175a4ded4002b4f1324fbbbdb4d0"
      }
     },
     "99f256a6ecb14f42bfff179e74e8eb90": {
      "model_module": "@jupyter-widgets/base",
      "model_module_version": "1.0.0",
      "model_name": "LayoutModel",
      "state": {}
     },
     "9a02b844300f4749ae950d037149bcc9": {
      "model_module": "@jupyter-widgets/controls",
      "model_module_version": "1.0.0",
      "model_name": "DescriptionStyleModel",
      "state": {
       "description_width": ""
      }
     },
     "9acc4414a488491a83752f9800b32eee": {
      "model_module": "@jupyter-widgets/controls",
      "model_module_version": "1.0.0",
      "model_name": "HBoxModel",
      "state": {
       "children": [
        "IPY_MODEL_ac1f24bd43f84f5eb8499d61e2b6419e",
        "IPY_MODEL_8a231d53141947a5a2bc037911f68476",
        "IPY_MODEL_0d7c565c50364ec68716d5dbce9841a1"
       ],
       "layout": "IPY_MODEL_71202fc339334e4d8a6f5c5f7c68930f"
      }
     },
     "9b64408de6594326b2c601cf2156ddb5": {
      "model_module": "@jupyter-widgets/controls",
      "model_module_version": "1.0.0",
      "model_name": "IntSliderModel",
      "state": {
       "continuous_update": false,
       "description": "%:",
       "disabled": true,
       "layout": "IPY_MODEL_989d4cf60a8a41dfa324ca33381a1213",
       "style": "IPY_MODEL_603735d315af4b97b6b4269fb18274e5",
       "value": 25
      }
     },
     "9d10e570cefa4d98bb1dae170d103fb4": {
      "model_module": "@jupyter-widgets/base",
      "model_module_version": "1.0.0",
      "model_name": "LayoutModel",
      "state": {}
     },
     "a074e58c952f4eafa8957bbf5fdb4a2d": {
      "model_module": "@jupyter-widgets/base",
      "model_module_version": "1.0.0",
      "model_name": "LayoutModel",
      "state": {}
     },
     "a3a6cf423ec54db2b2981bff2b78d951": {
      "model_module": "@jupyter-widgets/base",
      "model_module_version": "1.0.0",
      "model_name": "LayoutModel",
      "state": {}
     },
     "a791da8c2ed246b19da6e932f67d52e8": {
      "model_module": "@jupyter-widgets/controls",
      "model_module_version": "1.0.0",
      "model_name": "IntSliderModel",
      "state": {
       "continuous_update": false,
       "description": "%:",
       "disabled": true,
       "layout": "IPY_MODEL_99f256a6ecb14f42bfff179e74e8eb90",
       "style": "IPY_MODEL_7ece7f46b8a14ff2a9368473ca6fc236",
       "value": 25
      }
     },
     "ac1f24bd43f84f5eb8499d61e2b6419e": {
      "model_module": "@jupyter-widgets/controls",
      "model_module_version": "1.0.0",
      "model_name": "DropdownModel",
      "state": {
       "_options_labels": [
        "bar",
        "line",
        "scatter",
        "lm",
        "box",
        "violin"
       ],
       "description": "chart type:",
       "index": 0,
       "layout": "IPY_MODEL_b158d280de404ccdbccecaafeedbd99e",
       "style": "IPY_MODEL_6278e2ca3b7b4abd9f27f16ac798d0ce"
      }
     },
     "ac812d6a58054c91a00075b15fcf9953": {
      "model_module": "@jupyter-widgets/controls",
      "model_module_version": "1.0.0",
      "model_name": "DropdownModel",
      "state": {
       "_options_labels": [
        "None",
        "PassengerId",
        "Survived",
        "Pclass",
        "Name",
        "Sex",
        "Age",
        "SibSp",
        "Parch",
        "Ticket",
        "Fare",
        "Embarked"
       ],
       "description": "z_axis:",
       "index": 5,
       "layout": "IPY_MODEL_277ac433a09b45739dceae5fa3b406ea",
       "style": "IPY_MODEL_9a02b844300f4749ae950d037149bcc9"
      }
     },
     "ad4e175a4ded4002b4f1324fbbbdb4d0": {
      "model_module": "@jupyter-widgets/base",
      "model_module_version": "1.0.0",
      "model_name": "LayoutModel",
      "state": {}
     },
     "b09f54d418ca4e25870cd7d78dea4f14": {
      "model_module": "@jupyter-widgets/base",
      "model_module_version": "1.0.0",
      "model_name": "LayoutModel",
      "state": {}
     },
     "b158d280de404ccdbccecaafeedbd99e": {
      "model_module": "@jupyter-widgets/base",
      "model_module_version": "1.0.0",
      "model_name": "LayoutModel",
      "state": {}
     },
     "b71243ff49d84070b3f6b585ea62b1c4": {
      "model_module": "@jupyter-widgets/controls",
      "model_module_version": "1.0.0",
      "model_name": "DescriptionStyleModel",
      "state": {
       "description_width": ""
      }
     },
     "b71ecee1b54745a5bc0cbc43bfc8fac3": {
      "model_module": "@jupyter-widgets/base",
      "model_module_version": "1.0.0",
      "model_name": "LayoutModel",
      "state": {}
     },
     "b912166cc9b04f399ef17bd53ae6bb80": {
      "model_module": "@jupyter-widgets/base",
      "model_module_version": "1.0.0",
      "model_name": "LayoutModel",
      "state": {}
     },
     "bc4e74d8ca67441c8d5695edd5c2494f": {
      "model_module": "@jupyter-widgets/controls",
      "model_module_version": "1.0.0",
      "model_name": "IntSliderModel",
      "state": {
       "continuous_update": false,
       "description": "%:",
       "disabled": true,
       "layout": "IPY_MODEL_438026d60b9241068e750b95bece2c2c",
       "style": "IPY_MODEL_3b53509bff6141448d6d51a22bc5a8e2",
       "value": 25
      }
     },
     "bd3c92888cda4836b8771ab02a999d17": {
      "model_module": "@jupyter-widgets/base",
      "model_module_version": "1.0.0",
      "model_name": "LayoutModel",
      "state": {}
     },
     "c3a6d31f115e4ee5899123ee2bdc2e15": {
      "model_module": "@jupyter-widgets/controls",
      "model_module_version": "1.0.0",
      "model_name": "DescriptionStyleModel",
      "state": {
       "description_width": ""
      }
     },
     "d0245f2251bf401085b40343fb8e91f0": {
      "model_module": "@jupyter-widgets/controls",
      "model_module_version": "1.0.0",
      "model_name": "DropdownModel",
      "state": {
       "_options_labels": [
        "mean",
        "median",
        "count",
        "percentile"
       ],
       "description": "function:",
       "index": 0,
       "layout": "IPY_MODEL_820246baad0a430ba5ee0fc31ab8dbd0",
       "style": "IPY_MODEL_deed4c267c3646bebedacaaa5a05b3e7"
      }
     },
     "d1b65ca8c3e04448a5290d478d782051": {
      "model_module": "@jupyter-widgets/controls",
      "model_module_version": "1.0.0",
      "model_name": "DropdownModel",
      "state": {
       "_options_labels": [
        "PassengerId",
        "Survived",
        "Pclass",
        "Age",
        "SibSp",
        "Parch",
        "Fare"
       ],
       "description": "y_axis:",
       "index": 1,
       "layout": "IPY_MODEL_7b6d8669ff97401989af45c4acabd97a",
       "style": "IPY_MODEL_209c826e78d0489eb941d1ef7e79667f"
      }
     },
     "d83150928a704c2d8f03184ee62abfe5": {
      "model_module": "@jupyter-widgets/controls",
      "model_module_version": "1.0.0",
      "model_name": "HBoxModel",
      "state": {
       "children": [
        "IPY_MODEL_ac1f24bd43f84f5eb8499d61e2b6419e",
        "IPY_MODEL_32a15801ff9945368167fabf8c82ea14",
        "IPY_MODEL_ea65e520b95a4dcebe6d4c16b9f11252"
       ],
       "layout": "IPY_MODEL_e364acd88cd94b8790ef5617fd4f574d"
      }
     },
     "deed4c267c3646bebedacaaa5a05b3e7": {
      "model_module": "@jupyter-widgets/controls",
      "model_module_version": "1.0.0",
      "model_name": "DescriptionStyleModel",
      "state": {
       "description_width": ""
      }
     },
     "e364acd88cd94b8790ef5617fd4f574d": {
      "model_module": "@jupyter-widgets/base",
      "model_module_version": "1.0.0",
      "model_name": "LayoutModel",
      "state": {}
     },
     "e3658bacbe31405c81012d5ae24146a9": {
      "model_module": "@jupyter-widgets/base",
      "model_module_version": "1.0.0",
      "model_name": "LayoutModel",
      "state": {}
     },
     "e46e406f04204b86b5c1f02d50fbbe1b": {
      "model_module": "@jupyter-widgets/controls",
      "model_module_version": "1.0.0",
      "model_name": "SliderStyleModel",
      "state": {
       "description_width": ""
      }
     },
     "e4ae8119f94745168edb3314437f998f": {
      "model_module": "@jupyter-widgets/controls",
      "model_module_version": "1.0.0",
      "model_name": "IntSliderModel",
      "state": {
       "continuous_update": false,
       "description": "%:",
       "disabled": true,
       "layout": "IPY_MODEL_01c297efcc054fbd8e33f2c5ed78ea16",
       "style": "IPY_MODEL_1402f5f3bf8042dfa05c68c3111d65e6",
       "value": 25
      }
     },
     "e4bd1586142b4b24873d8c35b7841286": {
      "model_module": "@jupyter-widgets/controls",
      "model_module_version": "1.0.0",
      "model_name": "HBoxModel",
      "state": {
       "children": [
        "IPY_MODEL_f75528278da34332901156cc4314ac25",
        "IPY_MODEL_d1b65ca8c3e04448a5290d478d782051",
        "IPY_MODEL_ac812d6a58054c91a00075b15fcf9953"
       ],
       "layout": "IPY_MODEL_8bf2e706e74b43d09e87d7d6becf3743"
      }
     },
     "e687a87975fd490d9972110702c263e1": {
      "model_module": "@jupyter-widgets/controls",
      "model_module_version": "1.0.0",
      "model_name": "HBoxModel",
      "state": {
       "children": [
        "IPY_MODEL_ac1f24bd43f84f5eb8499d61e2b6419e",
        "IPY_MODEL_fc1945d5a82f46579c2268f4e72275e4",
        "IPY_MODEL_89c2cf2b6eca4525887a254224df875c"
       ],
       "layout": "IPY_MODEL_b09f54d418ca4e25870cd7d78dea4f14"
      }
     },
     "ea65e520b95a4dcebe6d4c16b9f11252": {
      "model_module": "@jupyter-widgets/controls",
      "model_module_version": "1.0.0",
      "model_name": "IntSliderModel",
      "state": {
       "continuous_update": false,
       "description": "%:",
       "disabled": true,
       "layout": "IPY_MODEL_ecd32928a78a44b48b1daa52371c3bef",
       "style": "IPY_MODEL_1ab17154ff334796bdb421bd2e2966d8",
       "value": 25
      }
     },
     "ec602b0c3ddf4e37950cbc78e73487df": {
      "model_module": "@jupyter-widgets/controls",
      "model_module_version": "1.0.0",
      "model_name": "HBoxModel",
      "state": {
       "children": [
        "IPY_MODEL_f75528278da34332901156cc4314ac25",
        "IPY_MODEL_d1b65ca8c3e04448a5290d478d782051",
        "IPY_MODEL_ac812d6a58054c91a00075b15fcf9953"
       ],
       "layout": "IPY_MODEL_b71ecee1b54745a5bc0cbc43bfc8fac3"
      }
     },
     "ecd32928a78a44b48b1daa52371c3bef": {
      "model_module": "@jupyter-widgets/base",
      "model_module_version": "1.0.0",
      "model_name": "LayoutModel",
      "state": {}
     },
     "ed4e81c0046e4a70ad67a1e0d51886a9": {
      "model_module": "@jupyter-widgets/base",
      "model_module_version": "1.0.0",
      "model_name": "LayoutModel",
      "state": {}
     },
     "f4d1c98b2a1f4d89a522d8f1e52a9788": {
      "model_module": "@jupyter-widgets/controls",
      "model_module_version": "1.0.0",
      "model_name": "DropdownModel",
      "state": {
       "_options_labels": [
        "mean",
        "median",
        "count",
        "percentile"
       ],
       "description": "function:",
       "index": 0,
       "layout": "IPY_MODEL_2e7605946913432184eccf6fa8f8adee",
       "style": "IPY_MODEL_b71243ff49d84070b3f6b585ea62b1c4"
      }
     },
     "f75528278da34332901156cc4314ac25": {
      "model_module": "@jupyter-widgets/controls",
      "model_module_version": "1.0.0",
      "model_name": "DropdownModel",
      "state": {
       "_options_labels": [
        "None",
        "PassengerId",
        "Survived",
        "Pclass",
        "Name",
        "Sex",
        "Age",
        "SibSp",
        "Parch",
        "Ticket",
        "Fare",
        "Embarked"
       ],
       "description": "x_axis:",
       "index": 3,
       "layout": "IPY_MODEL_a3a6cf423ec54db2b2981bff2b78d951",
       "style": "IPY_MODEL_c3a6d31f115e4ee5899123ee2bdc2e15"
      }
     },
     "fa38478ecc5b45f3b340c783290996a6": {
      "model_module": "@jupyter-widgets/base",
      "model_module_version": "1.0.0",
      "model_name": "LayoutModel",
      "state": {}
     },
     "fc1945d5a82f46579c2268f4e72275e4": {
      "model_module": "@jupyter-widgets/controls",
      "model_module_version": "1.0.0",
      "model_name": "DropdownModel",
      "state": {
       "_options_labels": [
        "mean",
        "median",
        "count",
        "percentile"
       ],
       "description": "function:",
       "index": 0,
       "layout": "IPY_MODEL_0d31d5276f2944c7a592e411ca5d9011",
       "style": "IPY_MODEL_339f70f71a104f84b93a3abb8709d614"
      }
     },
     "fc6b4b4851144823b9ea4f0281501f87": {
      "model_module": "@jupyter-widgets/base",
      "model_module_version": "1.0.0",
      "model_name": "LayoutModel",
      "state": {}
     },
     "ffde75a496084c81a542d843e74e400b": {
      "model_module": "@jupyter-widgets/controls",
      "model_module_version": "1.0.0",
      "model_name": "DescriptionStyleModel",
      "state": {
       "description_width": ""
      }
     }
    },
    "version_major": 2,
    "version_minor": 0
   }
  }
 },
 "nbformat": 4,
 "nbformat_minor": 2
}
